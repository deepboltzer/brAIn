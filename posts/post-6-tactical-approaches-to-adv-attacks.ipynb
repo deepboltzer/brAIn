{
 "cells": [
  {
   "cell_type": "markdown",
   "id": "a88f554c",
   "metadata": {},
   "source": [
    "# Tactical Approaches to Adversarial attacks on RL"
   ]
  },
  {
   "cell_type": "markdown",
   "id": "3caa0631",
   "metadata": {},
   "source": [
    "## Introduction( what are adversarial attacks? )\n",
    "\n",
    "- fundamentals of adversarial attacks\n",
    "- keywords\n",
    "- goals of attacks\n",
    "- how agent and environment are affected \n",
    "- focus of this post"
   ]
  },
  {
   "cell_type": "markdown",
   "id": "6dc5ec45",
   "metadata": {},
   "source": [
    "## Attack forms ( strategically timed to critical point)(maybe enchanting,antagonist)\n",
    "\n",
    "- explain basic idea(strategically timed and enchanting)\n",
    "- explain attack strategy and present functions(informal or formal)\n",
    "- effects on agent and environment\n",
    "\n",
    "- introduce critical point strategy( and antagonist attack) ( what are the differences?)\n",
    "- basic idea and principle\n",
    "- attack strategy\n",
    "- effect on agent and environment compared to strategically timed attack\n"
   ]
  },
  {
   "cell_type": "markdown",
   "id": "f665951a",
   "metadata": {},
   "source": [
    "## Implementation and results\n",
    "- show process and results through implementation on example\n",
    "- compare results of attacks "
   ]
  },
  {
   "cell_type": "markdown",
   "id": "76514a4c",
   "metadata": {},
   "source": [
    "## Conclusion\n",
    "- evaluate results of attacks\n",
    "- explain why critical point attack is more \"evolved\"\n",
    "- outlook on application of these attacks on Real world scenarios\n",
    "- (maybe comparison with other attacks"
   ]
  }
 ],
 "metadata": {
  "kernelspec": {
   "display_name": "Python 3",
   "language": "python",
   "name": "python3"
  },
  "language_info": {
   "codemirror_mode": {
    "name": "ipython",
    "version": 3
   },
   "file_extension": ".py",
   "mimetype": "text/x-python",
   "name": "python",
   "nbconvert_exporter": "python",
   "pygments_lexer": "ipython3",
   "version": "3.8.8"
  }
 },
 "nbformat": 4,
 "nbformat_minor": 5
}
