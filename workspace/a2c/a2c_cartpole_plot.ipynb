{
 "cells": [
  {
   "cell_type": "code",
   "execution_count": null,
   "id": "6d884b6d",
   "metadata": {},
   "outputs": [],
   "source": [
    "import gym\n",
    "import numpy as np\n",
    "import matplotlib.pyplot as plt\n",
    "import os\n",
    "\n",
    "from stable_baselines3.ppo.policies import MlpPolicy\n",
    "from stable_baselines3.common.evaluation import evaluate_policy\n",
    "from stable_baselines3.common.monitor import Monitor\n",
    "from stable_baselines3 import A2C\n",
    "from stable_baselines3.common.results_plotter import load_results, ts2xy\n",
    "from stable_baselines3.common import results_plotter\n",
    "\n"
   ]
  },
  {
   "cell_type": "code",
   "execution_count": null,
   "id": "20233f88",
   "metadata": {},
   "outputs": [],
   "source": [
    "log_dir = \"/tmp/gym/\"\n",
    "os.makedirs(log_dir, exist_ok=True)\n",
    "\n",
    "env = gym.make('CartPole-v1')\n",
    "\n",
    "env = Monitor(env, log_dir)\n",
    "\n",
    "model = A2C(MlpPolicy, env, verbose=1)"
   ]
  },
  {
   "cell_type": "code",
   "execution_count": null,
   "id": "fd101f8f",
   "metadata": {
    "scrolled": false
   },
   "outputs": [],
   "source": [
    "# Train for 10000 timesteps\n",
    "model.learn(total_timesteps=10000)\n",
    "# Save model\n",
    "save_dir=\"./trained/\"\n",
    "model.save(save_dir + f\"/a2c_cartpole-v1/a2c_CartPole1\")\n",
    "del model # delete to load for evaluation of mean reward "
   ]
  },
  {
   "cell_type": "code",
   "execution_count": null,
   "id": "58dc82f6",
   "metadata": {
    "scrolled": false
   },
   "outputs": [],
   "source": [
    "model = A2C.load(save_dir + f\"/a2c_cartpole-v1/a2c_CartPole1\") #load your model"
   ]
  },
  {
   "cell_type": "code",
   "execution_count": null,
   "id": "a094c667",
   "metadata": {},
   "outputs": [],
   "source": [
    "# Evaluate agent and print out mean reward\n",
    "mean_reward, std_reward = evaluate_policy(model, Monitor(env), n_eval_episodes=100, deterministic=True)\n",
    "\n",
    "print(f\"mean_reward={mean_reward:.2f} +/- {std_reward}\")"
   ]
  },
  {
   "cell_type": "code",
   "execution_count": null,
   "id": "351f1afe",
   "metadata": {},
   "outputs": [],
   "source": [
    "results_plotter.plot_results([log_dir], 10000, results_plotter.X_TIMESTEPS, \"a2c_cartpole-v1\")"
   ]
  }
 ],
 "metadata": {
  "kernelspec": {
   "display_name": "Python 3",
   "language": "python",
   "name": "python3"
  },
  "language_info": {
   "codemirror_mode": {
    "name": "ipython",
    "version": 3
   },
   "file_extension": ".py",
   "mimetype": "text/x-python",
   "name": "python",
   "nbconvert_exporter": "python",
   "pygments_lexer": "ipython3",
   "version": "3.8.8"
  }
 },
 "nbformat": 4,
 "nbformat_minor": 5
}
