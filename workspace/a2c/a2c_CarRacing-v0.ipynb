{
 "cells": [
  {
   "cell_type": "code",
   "execution_count": null,
   "id": "5589f1f1",
   "metadata": {
    "scrolled": false
   },
   "outputs": [],
   "source": [
    "import gym\n",
    "import numpy as np\n",
    "import matplotlib.pyplot as plt\n",
    "import os\n",
    "\n",
    "\n",
    "from stable_baselines3 import A2C\n",
    "from stable_baselines3.a2c.policies import MlpPolicy\n",
    "from stable_baselines3.common.evaluation import evaluate_policy\n",
    "from stable_baselines3.common.monitor import Monitor"
   ]
  },
  {
   "cell_type": "code",
   "execution_count": null,
   "id": "52e4f6e0",
   "metadata": {},
   "outputs": [],
   "source": [
    "log_dir = \"/tmp/gym/\"\n",
    "os.makedirs(log_dir, exist_ok=True)\n",
    "\n",
    "env = gym.make('CarRacing-v0')\n",
    "\n",
    "model = A2C(MlpPolicy, env, verbose=1)"
   ]
  },
  {
   "cell_type": "code",
   "execution_count": null,
   "id": "72ddc983",
   "metadata": {},
   "outputs": [],
   "source": [
    "\n",
    "model.learn(total_timesteps=1000000)\n",
    "\n",
    "save_dir=\"./trained/\"\n",
    "model.save(save_dir + f\"/a2c_CarRacing-v0/a2c_CarRacing1\")\n",
    "del model \n",
    "model = A2C.load(save_dir + f\"/a2c_CarRacing-v0/a2c_CarRacing1\")"
   ]
  },
  {
   "cell_type": "code",
   "execution_count": null,
   "id": "6a51741c",
   "metadata": {},
   "outputs": [],
   "source": [
    "\n",
    "model.learn(total_timesteps=1000000)\n",
    "\n",
    "save_dir=\"./trained/\"\n",
    "model.save(save_dir + f\"/a2c_CarRacing-v0/a2c_CarRacing1\")\n",
    "del model \n",
    "model = A2C.load(save_dir + f\"/a2c_CarRacing-v0/a2c_CarRacing1\")"
   ]
  },
  {
   "cell_type": "code",
   "execution_count": null,
   "id": "c9a54262",
   "metadata": {},
   "outputs": [],
   "source": [
    "results_plotter.plot_results([log_dir], 1000000, results_plotter.X_TIMESTEPS, \"a2c_CarRacing-v0\")"
   ]
  },
  {
   "cell_type": "code",
   "execution_count": null,
   "id": "d19918cc",
   "metadata": {},
   "outputs": [],
   "source": [
    "mean_reward, std_reward = evaluate_policy(model, Monitor(env), n_eval_episodes=100, deterministic=True)\n",
    "\n",
    "print(f\"mean_reward={mean_reward:.2f} +/- {std_reward}\")"
   ]
  }
 ],
 "metadata": {
  "kernelspec": {
   "display_name": "Python 3",
   "language": "python",
   "name": "python3"
  },
  "language_info": {
   "codemirror_mode": {
    "name": "ipython",
    "version": 3
   },
   "file_extension": ".py",
   "mimetype": "text/x-python",
   "name": "python",
   "nbconvert_exporter": "python",
   "pygments_lexer": "ipython3",
   "version": "3.8.8"
  }
 },
 "nbformat": 4,
 "nbformat_minor": 5
}
