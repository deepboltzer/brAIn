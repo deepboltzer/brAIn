{
 "cells": [
  {
   "cell_type": "code",
   "execution_count": null,
   "id": "8bad3f03",
   "metadata": {},
   "outputs": [],
   "source": [
    "import gym\n",
    "import numpy as np\n",
    "import os\n",
    "\n",
    "from stable_baselines3.ppo.policies import MlpPolicy\n",
    "from stable_baselines3.common.evaluation import evaluate_policy\n",
    "from stable_baselines3.common.monitor import Monitor\n",
    "from stable_baselines3 import A2C"
   ]
  },
  {
   "cell_type": "code",
   "execution_count": null,
   "id": "d6b426d0",
   "metadata": {},
   "outputs": [],
   "source": [
    "env = gym.make('CartPole-v1')\n",
    "model = A2C(MlpPolicy, env, verbose=1)"
   ]
  },
  {
   "cell_type": "code",
   "execution_count": null,
   "id": "540ca8e6",
   "metadata": {},
   "outputs": [],
   "source": [
    "# Train for 10000 timesteps\n",
    "model.learn(total_timesteps=10000)\n",
    "# Save model\n",
    "save_dir=\"./trained/\"\n",
    "model.save(save_dir + f\"/a2c_cartpole-v1/a2c_CartPole1\")\n",
    "del model # delete to load for evaluation of mean reward "
   ]
  },
  {
   "cell_type": "code",
   "execution_count": null,
   "id": "4b635e80",
   "metadata": {},
   "outputs": [],
   "source": [
    "model = A2C.load(save_dir + f\"/a2c_cartpole-v1/a2c_CartPole1\") #load your model"
   ]
  },
  {
   "cell_type": "code",
   "execution_count": null,
   "id": "835ff3ba",
   "metadata": {},
   "outputs": [],
   "source": [
    "# Evaluate agent and print out mean reward\n",
    "mean_reward, std_reward = evaluate_policy(model, Monitor(env), n_eval_episodes=100, deterministic=True)\n",
    "\n",
    "print(f\"mean_reward={mean_reward:.2f} +/- {std_reward}\")"
   ]
  }
 ],
 "metadata": {
  "kernelspec": {
   "display_name": "Python 3",
   "language": "python",
   "name": "python3"
  },
  "language_info": {
   "codemirror_mode": {
    "name": "ipython",
    "version": 3
   },
   "file_extension": ".py",
   "mimetype": "text/x-python",
   "name": "python",
   "nbconvert_exporter": "python",
   "pygments_lexer": "ipython3",
   "version": "3.8.8"
  }
 },
 "nbformat": 4,
 "nbformat_minor": 5
}
