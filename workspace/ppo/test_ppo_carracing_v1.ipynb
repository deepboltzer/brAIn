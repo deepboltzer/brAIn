{
 "cells": [
  {
   "cell_type": "code",
   "execution_count": 1,
   "metadata": {},
   "outputs": [
    {
     "name": "stderr",
     "output_type": "stream",
     "text": [
      "\n"
     ]
    }
   ],
   "source": [
    "import gym\n",
    "import pandas as pd\n",
    "\n",
    "from stable_baselines3 import PPO\n",
    "from stable_baselines3.ppo.policies import MlpPolicy\n",
    "from stable_baselines3.ppo.policies import CnnPolicy\n",
    "from stable_baselines3.common.evaluation import evaluate_policy\n",
    "from stable_baselines3.common.monitor import Monitor\n",
    "from stable_baselines3.common.env_util import make_vec_env"
   ]
  },
  {
   "cell_type": "markdown",
   "metadata": {},
   "source": [
    "# CarRacing\n",
    "\"Easiest continuous control task to learn from pixels, a top-down racing environment. Discreet control is reasonable in this environment as well, on/off discretisation is fine. State consists of 96x96 pixels. Reward is -0.1 every frame and +1000/N for every track tile visited, where N is the total number of tiles in track. For example, if you have finished in 732 frames, your reward is 1000 - 0.1*732 = 926.8 points. Episode finishes when all tiles are visited. Some indicators shown at the bottom of the window and the state RGB buffer. From left to right: true speed, four ABS sensors, steering wheel position, gyroscope.\" - [CarRacing-v0](https://gym.openai.com/envs/CarRacing-v0/) ([Source](https://github.com/openai/gym/blob/master/gym/envs/box2d/car_racing.py))"
   ]
  },
  {
   "cell_type": "code",
   "execution_count": 9,
   "metadata": {},
   "outputs": [
    {
     "name": "stdout",
     "output_type": "stream",
     "text": [
      "Wrapping the env in a VecTransposeImage.\n"
     ]
    }
   ],
   "source": [
    "# Create environment\n",
    "env = make_vec_env('CarRacing-v1', n_envs=10)\n",
    "\n",
    "# Create new model\n",
    "# Try CnnPolicy\n",
    "# model = PPO(\n",
    "#     policy=CnnPolicy, \n",
    "#     env=env, \n",
    "#     learning_rate=0.0003,\n",
    "#     n_steps=2048,\n",
    "#     batch_size=64,\n",
    "#     n_epochs=10,\n",
    "#     gamma=0.99,\n",
    "#     gae_lambda=0.95,\n",
    "#     clip_range=0.2,\n",
    "#     clip_range_vf=None,\n",
    "#     ent_coef=0.0,\n",
    "#     vf_coef=0.5,\n",
    "#     max_grad_norm=0.5,\n",
    "#     use_sde=False,\n",
    "#     sde_sample_freq=-1,\n",
    "#     target_kl=None,\n",
    "#     tensorboard_log=None,\n",
    "#     create_eval_env=False,\n",
    "#     policy_kwargs=None,\n",
    "#     verbose=1,\n",
    "#     seed=None,\n",
    "#     device='auto',\n",
    "#     _init_setup_model=True\n",
    "#     )\n",
    "\n",
    "# Load existing model\n",
    "model = PPO.load(\"./models/carracing-v1/carracing_v1_ppo_510K\")\n",
    "model.set_env(env)"
   ]
  },
  {
   "cell_type": "code",
   "execution_count": null,
   "metadata": {},
   "outputs": [],
   "source": [
    "# Train model\n",
    "timesteps = 500000\n",
    "\n",
    "log_dir = \"./out/training-log/\"\n",
    "log_path = log_dir + f\"carracing-v1/\"\n",
    "save_dir = \"./models/carracing-v1/\"\n",
    "\n",
    "# Train agent\n",
    "model.learn(\n",
    "        total_timesteps=timesteps, \n",
    "        callback=None,\n",
    "        log_interval=-1,\n",
    "        eval_env=gym.make('CarRacing-v1'), \n",
    "        eval_freq=10000/10, \n",
    "        n_eval_episodes=5,\n",
    "        tb_log_name='PPO',\n",
    "        eval_log_path=log_path, \n",
    "        reset_num_timesteps=False\n",
    "        )"
   ]
  },
  {
   "cell_type": "code",
   "execution_count": 13,
   "metadata": {},
   "outputs": [
    {
     "data": {
      "text/html": [
       "<div>\n",
       "<style scoped>\n",
       "    .dataframe tbody tr th:only-of-type {\n",
       "        vertical-align: middle;\n",
       "    }\n",
       "\n",
       "    .dataframe tbody tr th {\n",
       "        vertical-align: top;\n",
       "    }\n",
       "\n",
       "    .dataframe thead th {\n",
       "        text-align: right;\n",
       "    }\n",
       "</style>\n",
       "<table border=\"1\" class=\"dataframe\">\n",
       "  <thead>\n",
       "    <tr style=\"text-align: right;\">\n",
       "      <th></th>\n",
       "      <th>mean_rew</th>\n",
       "      <th>mean_ep_length</th>\n",
       "    </tr>\n",
       "    <tr>\n",
       "      <th>timesteps</th>\n",
       "      <th></th>\n",
       "      <th></th>\n",
       "    </tr>\n",
       "  </thead>\n",
       "  <tbody>\n",
       "    <tr>\n",
       "      <th>10000</th>\n",
       "      <td>-34.163074</td>\n",
       "      <td>1000.0</td>\n",
       "    </tr>\n",
       "    <tr>\n",
       "      <th>20000</th>\n",
       "      <td>-35.206066</td>\n",
       "      <td>1000.0</td>\n",
       "    </tr>\n",
       "    <tr>\n",
       "      <th>30000</th>\n",
       "      <td>3.971887</td>\n",
       "      <td>1000.0</td>\n",
       "    </tr>\n",
       "    <tr>\n",
       "      <th>40000</th>\n",
       "      <td>31.528990</td>\n",
       "      <td>1000.0</td>\n",
       "    </tr>\n",
       "    <tr>\n",
       "      <th>50000</th>\n",
       "      <td>30.847347</td>\n",
       "      <td>1000.0</td>\n",
       "    </tr>\n",
       "    <tr>\n",
       "      <th>...</th>\n",
       "      <td>...</td>\n",
       "      <td>...</td>\n",
       "    </tr>\n",
       "    <tr>\n",
       "      <th>982000</th>\n",
       "      <td>-79.965200</td>\n",
       "      <td>1000.0</td>\n",
       "    </tr>\n",
       "    <tr>\n",
       "      <th>992000</th>\n",
       "      <td>-79.956788</td>\n",
       "      <td>1000.0</td>\n",
       "    </tr>\n",
       "    <tr>\n",
       "      <th>1002000</th>\n",
       "      <td>-73.996395</td>\n",
       "      <td>1000.0</td>\n",
       "    </tr>\n",
       "    <tr>\n",
       "      <th>1012000</th>\n",
       "      <td>-78.584231</td>\n",
       "      <td>1000.0</td>\n",
       "    </tr>\n",
       "    <tr>\n",
       "      <th>1022000</th>\n",
       "      <td>-81.367546</td>\n",
       "      <td>1000.0</td>\n",
       "    </tr>\n",
       "  </tbody>\n",
       "</table>\n",
       "<p>102 rows × 2 columns</p>\n",
       "</div>"
      ],
      "text/plain": [
       "            mean_rew  mean_ep_length\n",
       "timesteps                           \n",
       "10000     -34.163074          1000.0\n",
       "20000     -35.206066          1000.0\n",
       "30000       3.971887          1000.0\n",
       "40000      31.528990          1000.0\n",
       "50000      30.847347          1000.0\n",
       "...              ...             ...\n",
       "982000    -79.965200          1000.0\n",
       "992000    -79.956788          1000.0\n",
       "1002000   -73.996395          1000.0\n",
       "1012000   -78.584231          1000.0\n",
       "1022000   -81.367546          1000.0\n",
       "\n",
       "[102 rows x 2 columns]"
      ]
     },
     "execution_count": 13,
     "metadata": {},
     "output_type": "execute_result"
    }
   ],
   "source": [
    "# Display log\n",
    "import pandas as pd\n",
    "from utils.utils import load_log\n",
    "\n",
    "# Load logs and combine into one dataframe\n",
    "log_dir = \"./out/training-log/\"\n",
    "log_path = log_dir + f\"carracing-v1/\"\n",
    "\n",
    "files = [\n",
    "    log_path + \"evaluations_510K_to_1M.npz\",\n",
    "    log_path + \"evaluations_to_510K.npz\",\n",
    "]\n",
    "\n",
    "data = pd.concat([load_log(x) for x in files], axis='index')\n",
    "data.sort_values(by='timesteps', inplace=True)\n",
    "\n",
    "data"
   ]
  },
  {
   "cell_type": "code",
   "execution_count": 15,
   "metadata": {},
   "outputs": [
    {
     "data": {
      "image/png": "[encoded data removed]",
      "text/plain": [
       "<Figure size 648x360 with 1 Axes>"
      ]
     },
     "metadata": {
      "needs_background": "light"
     },
     "output_type": "display_data"
    }
   ],
   "source": [
    "#  Show log as graphic\n",
    "from utils.utils import plot_log\n",
    "\n",
    "\n",
    "plot_log(data, title='CarRacing-v1 mean reward', axis=[0, 1000000, -100, 700])"
   ]
  },
  {
   "cell_type": "code",
   "execution_count": 16,
   "metadata": {},
   "outputs": [],
   "source": [
    "# Save model\n",
    "save_dir = \"./models/carracing-v1/\"\n",
    "name = \"carracing_v1_ppo_1M\"\n",
    "model.save(save_dir + name)"
   ]
  }
 ],
 "metadata": {
  "interpreter": {
   "hash": "b1eaab1189d37ae29f7eac77705a074d5028424b72ba552afc8bf8536055072c"
  },
  "kernelspec": {
   "display_name": "Python 3.9.7 ('torch-gym')",
   "language": "python",
   "name": "python3"
  },
  "language_info": {
   "codemirror_mode": {
    "name": "ipython",
    "version": 3
   },
   "file_extension": ".py",
   "mimetype": "text/x-python",
   "name": "python",
   "nbconvert_exporter": "python",
   "pygments_lexer": "ipython3",
   "version": "3.9.7"
  },
  "orig_nbformat": 4
 },
 "nbformat": 4,
 "nbformat_minor": 2
}
