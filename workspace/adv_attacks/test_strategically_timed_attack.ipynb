{
 "cells": [
  {
   "cell_type": "code",
   "execution_count": 1,
   "metadata": {},
   "outputs": [
    {
     "name": "stderr",
     "output_type": "stream",
     "text": [
      "\n"
     ]
    }
   ],
   "source": [
    "import gym\n",
    "from stable_baselines3 import A2C\n",
    "from stable_baselines3 import PPO\n",
    "from stable_baselines3.ppo.policies import CnnPolicy\n",
    "from stable_baselines3.ppo.policies import MlpPolicy\n",
    "from utils.adversary_env import AdversaryEnv\n",
    "from stable_baselines3.common.evaluation import evaluate_policy\n",
    "from stable_baselines3.common.monitor import Monitor\n",
    "\n",
    "# Load target model\n",
    "target_model = A2C.load(\"../a2c/model/lunarlander_v2_a2c_3M_to_11M\")"
   ]
  },
  {
   "cell_type": "code",
   "execution_count": 2,
   "metadata": {},
   "outputs": [
    {
     "name": "stdout",
     "output_type": "stream",
     "text": [
      "mean_reward: 251.60 +/- 66.74\n"
     ]
    }
   ],
   "source": [
    "# Test target model - for info on why the env is wrapped with Monitor check the evaluate_policy function\n",
    "mean_reward, std_reward = evaluate_policy(target_model, Monitor(gym.make('LunarLander-v2')), n_eval_episodes=50)\n",
    "print(f\"mean_reward: {mean_reward:.2f} +/- {std_reward:.2f}\")"
   ]
  },
  {
   "cell_type": "code",
   "execution_count": 3,
   "metadata": {},
   "outputs": [],
   "source": [
    "# Create adversary with adversary env\n",
    "# adversary_env = AdversaryEnv(\"LunarLander-v2\", target_model)\n",
    "# adversary = PPO(MlpPolicy, adversary_env, verbose=1)"
   ]
  },
  {
   "cell_type": "code",
   "execution_count": 4,
   "metadata": {},
   "outputs": [],
   "source": [
    "# Train adversary\n",
    "# log_dir = \"./out/training-log/\"\n",
    "# log_path = log_dir + f\"adversary-lunarlander-v2/\"\n",
    "# save_dir = \"./models/adversary-lunarlander-v2/\"\n",
    "\n",
    "# timesteps = 50000\n",
    "\n",
    "# adversary.learn(\n",
    "#         total_timesteps=timesteps,\n",
    "#         callback=None,\n",
    "#         log_interval=-1,\n",
    "#         eval_env=adversary_env, \n",
    "#         eval_freq=5000, \n",
    "#         n_eval_episodes=100,\n",
    "#         tb_log_name='PPO',\n",
    "#         eval_log_path=log_path, \n",
    "#         reset_num_timesteps=False\n",
    "#         )\n",
    "\n",
    "# # Save adversary\n",
    "# adversary.save(save_dir + f\"adversary_lunarlander_v2_{timesteps}\")"
   ]
  },
  {
   "cell_type": "code",
   "execution_count": 5,
   "metadata": {},
   "outputs": [],
   "source": [
    "# Load adversary\n",
    "save_dir = \"./models/adversary-lunarlander-v2/\"\n",
    "\n",
    "adversary = PPO.load(save_dir + f\"adversary_lunarlander_v2_50000\")\n",
    "adversary_env = AdversaryEnv('LunarLander-v2', target_model)"
   ]
  },
  {
   "cell_type": "code",
   "execution_count": null,
   "metadata": {},
   "outputs": [],
   "source": [
    "import numpy as np\n",
    "import pandas as pd\n",
    "from strategically_timed_attack import StrategicallyTimedAttack\n",
    "\n",
    "# Evaluate strategically timed adversarial attack over different beta\n",
    "data_dict = {\n",
    "    'beta': [],\n",
    "    'mean_rew': [],\n",
    "    'mean_perturbation': [],\n",
    "    'mean_n_timesteps': [],\n",
    "    'mean_n_attacks': []\n",
    "}\n",
    "\n",
    "n_episodes = 50\n",
    "\n",
    "for j in range(50, 500):\n",
    "    beta = j\n",
    "\n",
    "    all_episodes_rewards = []\n",
    "    all_episodes_perturbation = []\n",
    "    all_episodes_n_timesteps = []\n",
    "    all_episodes_n_attacks = []\n",
    "\n",
    "    for i in range(0, n_episodes):\n",
    "        # Run attack on a2c model\n",
    "        env = gym.make(\"LunarLander-v2\")\n",
    "        ua = StrategicallyTimedAttack(env=env, model=target_model, attack=adversary, epsilon=0.25, beta=beta)\n",
    "        ua.perform_attack()\n",
    "\n",
    "        all_episodes_rewards.append(ua.reward_total)\n",
    "        all_episodes_perturbation.append(ua.perturbation_total)\n",
    "        all_episodes_n_timesteps.append(ua.frames_count)\n",
    "        all_episodes_n_attacks.append(ua.n_attacks)\n",
    "\n",
    "        ua.reset_attack()\n",
    "\n",
    "    data_dict['beta'].append(beta)\n",
    "    data_dict['mean_rew'].append(np.round(np.mean(all_episodes_rewards), 2))\n",
    "    data_dict['mean_perturbation'].append(np.round(np.mean(all_episodes_perturbation), 2))\n",
    "    data_dict['mean_n_timesteps'].append(np.round(np.mean(all_episodes_n_timesteps), 2))\n",
    "    data_dict['mean_n_attacks'].append(np.round(np.mean(all_episodes_n_attacks), 2))\n",
    "\n",
    "    print(\"------------------------------------------\")\n",
    "    print(\n",
    "        f\"{data_dict['beta'][-1] = }: \\n\" +\n",
    "        f\"{data_dict['mean_rew'][-1] = }, \\n\" +\n",
    "        f\"{data_dict['mean_perturbation'][-1] = } \\n\" +\n",
    "        f\"{data_dict['mean_n_timesteps'][-1] = } \\n\" +\n",
    "        f\"{data_dict['mean_n_attacks'][-1] = }\"\n",
    "        )\n",
    "    print(\"------------------------------------------\")"
   ]
  },
  {
   "cell_type": "code",
   "execution_count": null,
   "metadata": {},
   "outputs": [],
   "source": [
    "print(data_dict)"
   ]
  },
  {
   "cell_type": "code",
   "execution_count": 8,
   "metadata": {},
   "outputs": [
    {
     "data": {
      "text/html": [
       "<div>\n",
       "<style scoped>\n",
       "    .dataframe tbody tr th:only-of-type {\n",
       "        vertical-align: middle;\n",
       "    }\n",
       "\n",
       "    .dataframe tbody tr th {\n",
       "        vertical-align: top;\n",
       "    }\n",
       "\n",
       "    .dataframe thead th {\n",
       "        text-align: right;\n",
       "    }\n",
       "</style>\n",
       "<table border=\"1\" class=\"dataframe\">\n",
       "  <thead>\n",
       "    <tr style=\"text-align: right;\">\n",
       "      <th></th>\n",
       "      <th>mean_rew</th>\n",
       "      <th>mean_perturbation</th>\n",
       "      <th>mean_n_timsteps</th>\n",
       "      <th>mean_n_attacks</th>\n",
       "    </tr>\n",
       "    <tr>\n",
       "      <th>beta</th>\n",
       "      <th></th>\n",
       "      <th></th>\n",
       "      <th></th>\n",
       "      <th></th>\n",
       "    </tr>\n",
       "  </thead>\n",
       "  <tbody>\n",
       "    <tr>\n",
       "      <th>50</th>\n",
       "      <td>-53.11</td>\n",
       "      <td>21.040001</td>\n",
       "      <td>NaN</td>\n",
       "      <td>91.88</td>\n",
       "    </tr>\n",
       "    <tr>\n",
       "      <th>51</th>\n",
       "      <td>-56.58</td>\n",
       "      <td>11.990000</td>\n",
       "      <td>NaN</td>\n",
       "      <td>52.64</td>\n",
       "    </tr>\n",
       "    <tr>\n",
       "      <th>52</th>\n",
       "      <td>-54.03</td>\n",
       "      <td>12.080000</td>\n",
       "      <td>NaN</td>\n",
       "      <td>53.02</td>\n",
       "    </tr>\n",
       "    <tr>\n",
       "      <th>53</th>\n",
       "      <td>-59.58</td>\n",
       "      <td>17.070000</td>\n",
       "      <td>NaN</td>\n",
       "      <td>74.40</td>\n",
       "    </tr>\n",
       "    <tr>\n",
       "      <th>54</th>\n",
       "      <td>-59.26</td>\n",
       "      <td>12.170000</td>\n",
       "      <td>NaN</td>\n",
       "      <td>53.48</td>\n",
       "    </tr>\n",
       "    <tr>\n",
       "      <th>...</th>\n",
       "      <td>...</td>\n",
       "      <td>...</td>\n",
       "      <td>...</td>\n",
       "      <td>...</td>\n",
       "    </tr>\n",
       "    <tr>\n",
       "      <th>495</th>\n",
       "      <td>-52.74</td>\n",
       "      <td>16.709999</td>\n",
       "      <td>NaN</td>\n",
       "      <td>73.42</td>\n",
       "    </tr>\n",
       "    <tr>\n",
       "      <th>496</th>\n",
       "      <td>-52.93</td>\n",
       "      <td>7.930000</td>\n",
       "      <td>NaN</td>\n",
       "      <td>35.10</td>\n",
       "    </tr>\n",
       "    <tr>\n",
       "      <th>497</th>\n",
       "      <td>-52.08</td>\n",
       "      <td>12.690000</td>\n",
       "      <td>NaN</td>\n",
       "      <td>55.24</td>\n",
       "    </tr>\n",
       "    <tr>\n",
       "      <th>498</th>\n",
       "      <td>-61.32</td>\n",
       "      <td>16.870001</td>\n",
       "      <td>NaN</td>\n",
       "      <td>73.02</td>\n",
       "    </tr>\n",
       "    <tr>\n",
       "      <th>499</th>\n",
       "      <td>-56.56</td>\n",
       "      <td>16.520000</td>\n",
       "      <td>NaN</td>\n",
       "      <td>72.98</td>\n",
       "    </tr>\n",
       "  </tbody>\n",
       "</table>\n",
       "<p>450 rows × 4 columns</p>\n",
       "</div>"
      ],
      "text/plain": [
       "      mean_rew  mean_perturbation mean_n_timsteps  mean_n_attacks\n",
       "beta                                                             \n",
       "50      -53.11          21.040001             NaN           91.88\n",
       "51      -56.58          11.990000             NaN           52.64\n",
       "52      -54.03          12.080000             NaN           53.02\n",
       "53      -59.58          17.070000             NaN           74.40\n",
       "54      -59.26          12.170000             NaN           53.48\n",
       "...        ...                ...             ...             ...\n",
       "495     -52.74          16.709999             NaN           73.42\n",
       "496     -52.93           7.930000             NaN           35.10\n",
       "497     -52.08          12.690000             NaN           55.24\n",
       "498     -61.32          16.870001             NaN           73.02\n",
       "499     -56.56          16.520000             NaN           72.98\n",
       "\n",
       "[450 rows x 4 columns]"
      ]
     },
     "execution_count": 8,
     "metadata": {},
     "output_type": "execute_result"
    }
   ],
   "source": [
    "# Create DataFrame\n",
    "labels = ['beta', 'mean_rew', 'mean_perturbation', 'mean_n_timsteps', 'mean_n_attacks']\n",
    "\n",
    "data_df = pd.DataFrame(\n",
    "        data_dict, \n",
    "        columns=labels,\n",
    "        )\n",
    "data_df.set_index('beta', inplace=True)\n",
    "\n",
    "# Save data as .csv file\n",
    "with open(\"./out/data/\" + \"strategically_timed_attack_beta\", 'w') as f:\n",
    "    data_df.to_csv(f)\n",
    "\n",
    "data_df"
   ]
  },
  {
   "cell_type": "code",
   "execution_count": 9,
   "metadata": {},
   "outputs": [
    {
     "data": {
      "image/png": "[encoded data removed]",
      "text/plain": [
       "<Figure size 648x504 with 1 Axes>"
      ]
     },
     "metadata": {
      "needs_background": "light"
     },
     "output_type": "display_data"
    }
   ],
   "source": [
    "import pandas as pd\n",
    "import numpy as np\n",
    "from matplotlib import pyplot as plt\n",
    "\n",
    "# Load data\n",
    "with open(\"./out/data/\" + \"strategically_timed_attack_beta\", 'r') as f:\n",
    "    data_df = pd.read_csv(f, index_col=0)\n",
    "\n",
    "# Plot data_df\n",
    "plt.figure(figsize=(9,7))\n",
    "plt.plot(data_df.index, data_df['mean_rew'], color='darkslategray', alpha=1, zorder=0)\n",
    "plt.vlines(data_df.index, ymin=0, ymax=data_df['mean_rew'], color=np.where(data_df['mean_rew'] < 0, 'maroon', 'darkgreen'), alpha=1, zorder=1)\n",
    "plt.scatter(data_df.index, data_df['mean_rew'], color=np.where(data_df['mean_rew'] < 0, 'maroon', 'darkgreen'), label='mean reward', marker='D', alpha=1, zorder=2)\n",
    "\n",
    "plt.plot(data_df.index, data_df['mean_perturbation'], label='mean perturbation', color='crimson', linestyle='dotted', alpha=1, zorder=0)\n",
    "\n",
    "# plt.plot(data_df.index, data_df['mean_n_timesteps'], label='mean n timesteps', color='purple', linestyle='dotted', alpha=1, zorder=0)\n",
    "\n",
    "plt.plot(data_df.index, data_df['mean_n_attacks'], label='mean n attacks', color='black', linestyle='dashed', alpha=1, zorder=0)\n",
    "\n",
    "plt.title(\"Strategically timed attack\")\n",
    "plt.legend()\n",
    "plt.xlabel('$\\\\beta$')\n",
    "# plt.ylabel()\n",
    "plt.axis([0.01, 0.49, -300, 500]) # plt.axis([xmin, xmax, ymin, ymax])\n",
    "plt.show()"
   ]
  }
 ],
 "metadata": {
  "interpreter": {
   "hash": "b1eaab1189d37ae29f7eac77705a074d5028424b72ba552afc8bf8536055072c"
  },
  "kernelspec": {
   "display_name": "Python 3.9.7 ('torch-gym')",
   "language": "python",
   "name": "python3"
  },
  "language_info": {
   "codemirror_mode": {
    "name": "ipython",
    "version": 3
   },
   "file_extension": ".py",
   "mimetype": "text/x-python",
   "name": "python",
   "nbconvert_exporter": "python",
   "pygments_lexer": "ipython3",
   "version": "3.9.7"
  },
  "orig_nbformat": 4
 },
 "nbformat": 4,
 "nbformat_minor": 2
}
