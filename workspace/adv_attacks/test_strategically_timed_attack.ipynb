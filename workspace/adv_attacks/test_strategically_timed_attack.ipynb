{
 "cells": [
  {
   "cell_type": "code",
   "execution_count": 2,
   "metadata": {},
   "outputs": [
    {
     "name": "stderr",
     "output_type": "stream",
     "text": [
      "\n"
     ]
    }
   ],
   "source": [
    "import numpy as np\n",
    "import gym\n",
    "import os\n",
    "\n",
    "from stable_baselines3 import PPO\n",
    "from stable_baselines3.common.evaluation import evaluate_policy\n",
    "from stable_baselines3.common.monitor import Monitor\n",
    "\n",
    "import strategically_timed_attack"
   ]
  },
  {
   "cell_type": "code",
   "execution_count": 3,
   "metadata": {},
   "outputs": [],
   "source": [
    "# Load model\n",
    "current_dir = os.getcwd()\n",
    "save_dir = os.path.abspath(os.path.join(current_dir, os.pardir)) + \"/ppo/models/\"\n",
    "model = PPO.load(save_dir + \"/cartpole-v1/cartpole_v1_ppo_5000\")"
   ]
  },
  {
   "cell_type": "code",
   "execution_count": 4,
   "metadata": {},
   "outputs": [],
   "source": [
    "# Set environment\n",
    "env = gym.make('CartPole-v1')"
   ]
  },
  {
   "cell_type": "code",
   "execution_count": null,
   "metadata": {},
   "outputs": [],
   "source": [
    "# Test different beta\n",
    "beta_data = {\n",
    "    'beta': [],\n",
    "    'mean_reward': [],\n",
    "    'mean_perturbation': [],\n",
    "    'mean_attacks': []\n",
    "}\n",
    "\n",
    "for j in range(100):\n",
    "    num_episodes = 100\n",
    "    all_episodes_rewards = []\n",
    "    all_episodes_perturbation = []\n",
    "    all_episodes_attacks = []\n",
    "\n",
    "    for i in range(num_episodes):\n",
    "        episode_rewards = []\n",
    "        episode_perturbations = []\n",
    "        episode_attacks = []\n",
    "        done = False\n",
    "        obs = env.reset()\n",
    "\n",
    "        timestep = 0\n",
    "\n",
    "        beta = j / 100\n",
    "        \n",
    "        while not done:\n",
    "\n",
    "            timestep += 1\n",
    "\n",
    "            ### strategically timed attack ###\n",
    "            adversarial_sample, total_perturbation, attacked = strategically_timed_attack.perturb(env, obs, (0.0, 0.0, 0.5, 0.5), beta)\n",
    "            ### strategically timed attack ###        \n",
    "            \n",
    "            action, _states = model.predict(adversarial_sample)\n",
    "            obs, reward, done, info = env.step(action)\n",
    "            episode_rewards.append(reward)\n",
    "            episode_perturbations.append(total_perturbation)\n",
    "            episode_attacks.append(attacked)\n",
    "\n",
    "        all_episodes_rewards.append(sum(episode_rewards))\n",
    "        all_episodes_perturbation.append(sum(episode_perturbations))\n",
    "        all_episodes_attacks.append(sum(episode_attacks))\n",
    "    \n",
    "    # Save data for beta perturbation weights\n",
    "    beta_data['beta'].append(j/100)\n",
    "    beta_data['mean_reward'].append(np.mean(all_episodes_rewards))\n",
    "    beta_data['mean_perturbation'].append(np.mean(all_episodes_perturbation))\n",
    "    beta_data['mean_attacks'].append(np.mean(all_episodes_attacks))\n",
    "\n",
    "    print(f\"Finished test for beta {beta:.2f} with mean reward: {np.mean(all_episodes_rewards):.2f}, mean perturbation: {np.mean(all_episodes_perturbation):.2f} and number of mean attacks: {np.mean(all_episodes_attacks):.2f}\")"
   ]
  },
  {
   "cell_type": "code",
   "execution_count": 10,
   "metadata": {},
   "outputs": [
    {
     "data": {
      "image/png": "[encoded data removed]",
      "text/plain": [
       "<Figure size 432x288 with 2 Axes>"
      ]
     },
     "metadata": {
      "needs_background": "light"
     },
     "output_type": "display_data"
    }
   ],
   "source": [
    "# Plot result\n",
    "\n",
    "from matplotlib import pyplot as plt\n",
    "\n",
    "\n",
    "fig, ax1 = plt.subplots()\n",
    "\n",
    "ax1.set_xlabel('$\\\\beta$')\n",
    "ax1.set_ylabel('mean_perturbation', color='red')\n",
    "plot1, = ax1.plot(beta_data['beta'], beta_data['mean_perturbation'], color='red')\n",
    "\n",
    "ax2 = ax1.twinx()\n",
    "ax2.set_ylabel('mean_reward', color='black')\n",
    "plot2, = ax2.plot(beta_data['beta'], beta_data['mean_reward'], color='blue')\n",
    "plot3, = ax2.plot(beta_data['beta'], beta_data['mean_attacks'], color='green')\n",
    "\n",
    "plt.legend(\n",
    "    [plot1, plot2, plot3], \n",
    "    ['mean perturbation', 'mean reward for different $\\\\beta$', 'mean attacks']\n",
    "    )\n",
    "plt.show()"
   ]
  },
  {
   "cell_type": "code",
   "execution_count": null,
   "metadata": {},
   "outputs": [
    {
     "name": "stdout",
     "output_type": "stream",
     "text": [
      "mean_reward : 483.20 +/- 32.36\n"
     ]
    }
   ],
   "source": [
    "# Evaluate model - for info on why the env is wrapped with Monitor check the evaluate_policy function\n",
    "mean_reward, std_reward = evaluate_policy(model, Monitor(env), n_eval_episodes=100)\n",
    "print(f\"mean_reward : {mean_reward:.2f} +/- {std_reward:.2f}\")"
   ]
  },
  {
   "cell_type": "code",
   "execution_count": 13,
   "metadata": {},
   "outputs": [
    {
     "name": "stdout",
     "output_type": "stream",
     "text": [
      "Finished!\n",
      "Final mean reward: 125.17\n",
      "Mean perturbation: 0.02\n",
      "Mean attacks: 0.35\n",
      "Num episodes: 100\n"
     ]
    }
   ],
   "source": [
    "# Test uniform attack with optimized parameters\n",
    "\n",
    "num_episodes = 100\n",
    "all_episodes_rewards = []\n",
    "all_episodes_perturbation = []\n",
    "\n",
    "for i in range(num_episodes):\n",
    "    episode_rewards = []\n",
    "    episode_perturbations = []\n",
    "    done = False\n",
    "    obs = env.reset()\n",
    "\n",
    "    timestep = 0\n",
    "    \n",
    "    while not done:\n",
    "\n",
    "        timestep += 1\n",
    "\n",
    "        ### strategically timed attack ###\n",
    "        adversarial_sample, perturbation, attacks = strategically_timed_attack.perturb(env, obs, (0.0, 0.0, 0.5, 0.5), 0.45)\n",
    "        ### strategically timed attack ###        \n",
    "        \n",
    "        action, _states = model.predict(adversarial_sample)\n",
    "        obs, reward, done, info = env.step(action)\n",
    "        episode_rewards.append(reward)\n",
    "        episode_perturbations.append(perturbation)\n",
    "\n",
    "    all_episodes_rewards.append(sum(episode_rewards))\n",
    "    all_episodes_perturbation.append(sum(episode_perturbations) / timestep)\n",
    "\n",
    "print(f\"Finished!\")\n",
    "print(f\"Final mean reward: {np.mean(all_episodes_rewards):.2f}\")\n",
    "print(f\"Mean perturbation: {np.mean(all_episodes_perturbation):.2f}\")\n",
    "print(f\"Mean attacks: {np.mean(all_episodes_attacks):.2f}\")\n",
    "print(f\"Num episodes: {num_episodes}\")"
   ]
  }
 ],
 "metadata": {
  "interpreter": {
   "hash": "b1eaab1189d37ae29f7eac77705a074d5028424b72ba552afc8bf8536055072c"
  },
  "kernelspec": {
   "display_name": "Python 3.9.7 ('torch-gym')",
   "language": "python",
   "name": "python3"
  },
  "language_info": {
   "codemirror_mode": {
    "name": "ipython",
    "version": 3
   },
   "file_extension": ".py",
   "mimetype": "text/x-python",
   "name": "python",
   "nbconvert_exporter": "python",
   "pygments_lexer": "ipython3",
   "version": "3.9.7"
  },
  "orig_nbformat": 4
 },
 "nbformat": 4,
 "nbformat_minor": 2
}
