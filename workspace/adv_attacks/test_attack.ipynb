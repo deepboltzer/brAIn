{
 "cells": [
  {
   "cell_type": "code",
   "execution_count": 1,
   "metadata": {},
   "outputs": [
    {
     "name": "stderr",
     "output_type": "stream",
     "text": [
      "\n"
     ]
    }
   ],
   "source": [
    "import gym\n",
    "from stable_baselines3 import A2C\n",
    "from stable_baselines3 import PPO\n",
    "from stable_baselines3.ppo.policies import CnnPolicy\n",
    "from stable_baselines3.ppo.policies import MlpPolicy\n",
    "from utils.adversary_env import AdversaryEnv\n",
    "from stable_baselines3.common.evaluation import evaluate_policy\n",
    "from stable_baselines3.common.monitor import Monitor\n",
    "\n",
    "# Load target model\n",
    "target_model = A2C.load(\"../a2c/model/lunarlander_v2_a2c_3M_to_11M\")"
   ]
  },
  {
   "cell_type": "code",
   "execution_count": 2,
   "metadata": {},
   "outputs": [
    {
     "name": "stdout",
     "output_type": "stream",
     "text": [
      "mean_reward: 261.27 +/- 49.51\n"
     ]
    }
   ],
   "source": [
    "# Test target model - for info on why the env is wrapped with Monitor check the evaluate_policy function\n",
    "mean_reward, std_reward = evaluate_policy(target_model, Monitor(gym.make('LunarLander-v2')), n_eval_episodes=50)\n",
    "print(f\"mean_reward: {mean_reward:.2f} +/- {std_reward:.2f}\")"
   ]
  },
  {
   "cell_type": "code",
   "execution_count": 3,
   "metadata": {},
   "outputs": [],
   "source": [
    "# Create adversary with adversary env\n",
    "# adversary_env = AdversaryEnv(\"LunarLander-v2\", target_model)\n",
    "# adversary = PPO(MlpPolicy, adversary_env, verbose=1)"
   ]
  },
  {
   "cell_type": "code",
   "execution_count": 4,
   "metadata": {},
   "outputs": [],
   "source": [
    "# Train adversary\n",
    "# log_dir = \"./out/training-log/\"\n",
    "# log_path = log_dir + f\"adversary-lunarlander-v2/\"\n",
    "# save_dir = \"./models/adversary-lunarlander-v2/\"\n",
    "\n",
    "# timesteps = 50000\n",
    "\n",
    "# adversary.learn(\n",
    "#         total_timesteps=timesteps,\n",
    "#         callback=None,\n",
    "#         log_interval=-1,\n",
    "#         eval_env=adversary_env, \n",
    "#         eval_freq=5000, \n",
    "#         n_eval_episodes=100,\n",
    "#         tb_log_name='PPO',\n",
    "#         eval_log_path=log_path, \n",
    "#         reset_num_timesteps=False\n",
    "#         )\n",
    "\n",
    "# # Save adversary\n",
    "# adversary.save(save_dir + f\"adversary_lunarlander_v2_{timesteps}\")"
   ]
  },
  {
   "cell_type": "code",
   "execution_count": 5,
   "metadata": {},
   "outputs": [],
   "source": [
    "# Load adversary\n",
    "save_dir = \"./models/adversary-lunarlander-v2/\"\n",
    "\n",
    "adversary = PPO.load(save_dir + f\"adversary_lunarlander_v2_50000\")\n",
    "adversary_env = AdversaryEnv('LunarLander-v2', target_model)"
   ]
  },
  {
   "cell_type": "code",
   "execution_count": null,
   "metadata": {},
   "outputs": [],
   "source": [
    "import numpy as np\n",
    "import pandas as pd\n",
    "from uniform_attack import UniformAttack\n",
    "\n",
    "# Evaluate uniform adversarial attack over different epsilon\n",
    "data = {\n",
    "    'epsilon': [],\n",
    "    'mean_rew': [],\n",
    "    'mean_perturbation': [],\n",
    "    'mean_timesteps': [],\n",
    "    'mean_n_attacks': []\n",
    "}\n",
    "\n",
    "n_episodes = 50\n",
    "\n",
    "for j in range(1, 50):\n",
    "    epsilon = j/100\n",
    "\n",
    "    all_episodes_rewards = []\n",
    "    all_episodes_perturbation = []\n",
    "    all_episodes_timesteps = []\n",
    "    all_episodes_n_attacks = []\n",
    "\n",
    "    for i in range(0, n_episodes):\n",
    "        # Run attack on a2c model\n",
    "        env = gym.make(\"LunarLander-v2\")\n",
    "        ua = UniformAttack(env=env, model=target_model, attack=adversary, epsilon=epsilon)\n",
    "        ua.perform_attack()\n",
    "\n",
    "        all_episodes_rewards.append(ua.reward_total)\n",
    "        all_episodes_perturbation.append(ua.perturbation_total)\n",
    "        all_episodes_timesteps.append(ua.frames_count)\n",
    "        all_episodes_n_attacks.append(ua.n_attacks)\n",
    "\n",
    "        ua.reset_attack()\n",
    "\n",
    "    print(\"-------------------------------------------------------------\")\n",
    "    print(f\"Epsilon: {epsilon}\")\n",
    "    print(f\"Mean reward achieved over {n_episodes} episodes: {np.mean(all_episodes_rewards):.2f}\")\n",
    "    print(f\"Mean perturbation applied over {n_episodes} episodes: {np.mean(all_episodes_perturbation):.2f}\")\n",
    "    print(f\"Mean number of timesteps over {n_episodes} episodes: {np.mean(all_episodes_timesteps):.2f}\")\n",
    "    print(f\"Mean number of attacks over {n_episodes} episodes: {np.mean(all_episodes_n_attacks):.2f}\")\n",
    "    print(\"-------------------------------------------------------------\")\n",
    "\n",
    "    data['epsilon'].append(epsilon)\n",
    "    data['mean_rew'].append(np.round(np.mean(all_episodes_rewards), 2))\n",
    "    data['mean_perturbation'].append(np.round(np.mean(all_episodes_perturbation), 2))\n",
    "    data['mean_timesteps'].append(np.round(np.mean(all_episodes_timesteps), 2))\n",
    "    data['mean_n_attacks'].append(np.round(np.mean(all_episodes_n_attacks), 2))\n",
    "\n",
    "labels = ['epsilon', 'mean_rew', 'mean_perturbation', 'mean_n_timsteps', 'mean_n_attacks']\n",
    "df = pd.DataFrame(\n",
    "        data, \n",
    "        columns=labels,\n",
    "        )\n",
    "df.set_index('epsilon', inplace=True)\n",
    "with open(\"./out/data/\" + \"uniform_attack_epsilon\", 'w') as f:\n",
    "    df.to_csv(f)"
   ]
  },
  {
   "cell_type": "code",
   "execution_count": 9,
   "metadata": {},
   "outputs": [
    {
     "name": "stdout",
     "output_type": "stream",
     "text": [
      "[312.28, 341.94, 345.68, 273.22, 167.36, 165.8, 128.14, 106.6, 123.4, 107.66, 99.32, 95.26, 98.04, 97.26, 92.6, 90.86, 94.36, 89.72, 93.66, 90.1, 88.62, 83.66, 84.4, 82.96, 83.42, 83.5, 82.9, 86.64, 84.34, 104.82, 81.32, 82.8, 85.02, 84.7, 84.22, 82.04, 78.5, 81.38, 79.9, 78.62, 78.88, 94.38, 79.36, 93.96, 81.62, 77.56, 74.58, 77.08, 78.32]\n"
     ]
    }
   ],
   "source": [
    "from matplotlib import pyplot as plt\n",
    "\n",
    "# Load data\n",
    "with open(\"./out/data/\" + \"uniform_attack_epsilon\", 'r') as f:\n",
    "    df2 = pd.read_csv(f, index_col=0)\n",
    "\n",
    "# Plot data\n",
    "plt.figure(figsize=(7,9))\n",
    "  plt.plot(data.index, data['mean_rew'], color='darkslategray', alpha=1, zorder=0)\n",
    "  plt.vlines(data.index, ymin=0, ymax=data['mean_rew'], color=np.where(data['mean_rew'] < 0, 'maroon', 'darkgreen'), alpha=1, zorder=1)\n",
    "  plt.scatter(data.index, data['mean_rew'], color=np.where(data['mean_rew'] < 0, 'maroon', 'darkgreen'), marker='D', alpha=1, zorder=2)\n",
    "  plt.title(\"Uniform attack\")\n",
    "  plt.xlabel('$\\epsilon$')\n",
    "#   plt.ylabel()\n",
    "  plt.axis([0, 1, -500, 500]) # plt.axis([xmin, xmax, ymin, ymax])\n",
    "  plt.show()"
   ]
  },
  {
   "cell_type": "markdown",
   "metadata": {},
   "source": [
    "### Todo\n",
    "\n",
    "- Run with different epsilon\n",
    "- implement strategically timed attack, etc."
   ]
  }
 ],
 "metadata": {
  "interpreter": {
   "hash": "b1eaab1189d37ae29f7eac77705a074d5028424b72ba552afc8bf8536055072c"
  },
  "kernelspec": {
   "display_name": "Python 3.9.7 ('torch-gym')",
   "language": "python",
   "name": "python3"
  },
  "language_info": {
   "codemirror_mode": {
    "name": "ipython",
    "version": 3
   },
   "file_extension": ".py",
   "mimetype": "text/x-python",
   "name": "python",
   "nbconvert_exporter": "python",
   "pygments_lexer": "ipython3",
   "version": "3.9.7"
  },
  "orig_nbformat": 4
 },
 "nbformat": 4,
 "nbformat_minor": 2
}
