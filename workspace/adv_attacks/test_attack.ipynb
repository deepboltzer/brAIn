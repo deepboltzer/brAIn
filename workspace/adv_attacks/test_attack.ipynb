{
 "cells": [
  {
   "cell_type": "code",
   "execution_count": 1,
   "metadata": {},
   "outputs": [
    {
     "name": "stderr",
     "output_type": "stream",
     "text": [
      "\n"
     ]
    }
   ],
   "source": [
    "import gym\n",
    "from stable_baselines3 import A2C\n",
    "from stable_baselines3 import PPO\n",
    "from stable_baselines3.ppo.policies import CnnPolicy\n",
    "from stable_baselines3.ppo.policies import MlpPolicy\n",
    "from utils.adversary_env import AdversaryEnv\n",
    "from stable_baselines3.common.evaluation import evaluate_policy\n",
    "from stable_baselines3.common.monitor import Monitor\n",
    "\n",
    "# Load target model\n",
    "target_model = A2C.load(\"../a2c/model/lunarlander_v2_a2c_3M_to_11M\")"
   ]
  },
  {
   "cell_type": "code",
   "execution_count": 9,
   "metadata": {},
   "outputs": [
    {
     "name": "stdout",
     "output_type": "stream",
     "text": [
      "mean_reward: 246.88 +/- 69.14\n"
     ]
    }
   ],
   "source": [
    "# Test target model - for info on why the env is wrapped with Monitor check the evaluate_policy function\n",
    "mean_reward, std_reward = evaluate_policy(target_model, Monitor(gym.make('LunarLander-v2')), n_eval_episodes=100)\n",
    "print(f\"mean_reward: {mean_reward:.2f} +/- {std_reward:.2f}\")"
   ]
  },
  {
   "cell_type": "code",
   "execution_count": 3,
   "metadata": {},
   "outputs": [],
   "source": [
    "# Create adversary with adversary env\n",
    "# adversary_env = AdversaryEnv(\"LunarLander-v2\", target_model)\n",
    "# adversary = PPO(MlpPolicy, adversary_env, verbose=1)"
   ]
  },
  {
   "cell_type": "code",
   "execution_count": 4,
   "metadata": {},
   "outputs": [],
   "source": [
    "# Train adversary\n",
    "# log_dir = \"./out/training-log/\"\n",
    "# log_path = log_dir + f\"adversary-lunarlander-v2/\"\n",
    "# save_dir = \"./models/adversary-lunarlander-v2/\"\n",
    "\n",
    "# timesteps = 50000\n",
    "\n",
    "# adversary.learn(\n",
    "#         total_timesteps=timesteps\n",
    "#         )\n",
    "\n",
    "# # Save adversary\n",
    "# adversary.save(save_dir + f\"adversary_lunarlander_v2_{timesteps}\")"
   ]
  },
  {
   "cell_type": "code",
   "execution_count": 5,
   "metadata": {},
   "outputs": [],
   "source": [
    "# Load adversary\n",
    "log_dir = \"./out/training-log/\"\n",
    "log_path = log_dir + f\"adversary-lunarlander-v2/\"\n",
    "save_dir = \"./models/adversary-lunarlander-v2/\"\n",
    "\n",
    "adversary = PPO.load(save_dir + f\"adversary_lunarlander_v2_50000\")\n",
    "adversary_env = AdversaryEnv('LunarLander-v2', target_model)"
   ]
  },
  {
   "cell_type": "code",
   "execution_count": 8,
   "metadata": {},
   "outputs": [
    {
     "name": "stdout",
     "output_type": "stream",
     "text": [
      "Mean reward achieved over 100 episodes: -98.00\n",
      "Mean perturbation applied over 100 episodes: 20.41\n",
      "Mean number of timesteps over 100 episodes: 82.44\n"
     ]
    }
   ],
   "source": [
    "import numpy as np\n",
    "from uniform_attack import UniformAttack\n",
    "\n",
    "# Evaluate uniform adversarial attack\n",
    "\n",
    "all_episodes_rewards = []\n",
    "all_episodes_perturbation = []\n",
    "all_episodes_timesteps = []\n",
    "\n",
    "\n",
    "n_episodes = 100\n",
    "\n",
    "for i in range(0, n_episodes):\n",
    "    # Run attack on a2c model\n",
    "    env = gym.make(\"LunarLander-v2\")\n",
    "    ua = UniformAttack(env=env, model=target_model, attack=adversary, epsilon=0.25)\n",
    "    ua.perform_attack()\n",
    "    all_episodes_rewards.append(ua.reward_total)\n",
    "    all_episodes_perturbation.append(ua.perturbation_total)\n",
    "    all_episodes_timesteps.append(ua.frames_count)\n",
    "    ua.reset_attack()\n",
    "\n",
    "print(f\"Mean reward achieved over {n_episodes} episodes: {np.mean(all_episodes_rewards):.2f}\")\n",
    "print(f\"Mean perturbation applied over {n_episodes} episodes: {np.mean(all_episodes_perturbation):.2f}\")\n",
    "print(f\"Mean number of timesteps over {n_episodes} episodes: {np.mean(all_episodes_timesteps):.2f}\")"
   ]
  },
  {
   "cell_type": "markdown",
   "metadata": {},
   "source": [
    "### Todo\n",
    "\n",
    "- Run with different epsilon\n",
    "- implement strategically timed attack, etc."
   ]
  }
 ],
 "metadata": {
  "interpreter": {
   "hash": "b1eaab1189d37ae29f7eac77705a074d5028424b72ba552afc8bf8536055072c"
  },
  "kernelspec": {
   "display_name": "Python 3.9.7 ('torch-gym')",
   "language": "python",
   "name": "python3"
  },
  "language_info": {
   "codemirror_mode": {
    "name": "ipython",
    "version": 3
   },
   "file_extension": ".py",
   "mimetype": "text/x-python",
   "name": "python",
   "nbconvert_exporter": "python",
   "pygments_lexer": "ipython3",
   "version": "3.9.7"
  },
  "orig_nbformat": 4
 },
 "nbformat": 4,
 "nbformat_minor": 2
}
