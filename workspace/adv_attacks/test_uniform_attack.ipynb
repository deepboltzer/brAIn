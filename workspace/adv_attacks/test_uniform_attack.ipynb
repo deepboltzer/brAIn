{
 "cells": [
  {
   "cell_type": "code",
   "execution_count": 1,
   "metadata": {},
   "outputs": [
    {
     "name": "stderr",
     "output_type": "stream",
     "text": [
      "\n"
     ]
    }
   ],
   "source": [
    "import gym\n",
    "from stable_baselines3 import PPO\n",
    "from stable_baselines3 import A2C\n",
    "from stable_baselines3.ppo.policies import CnnPolicy\n",
    "from stable_baselines3.ppo.policies import MlpPolicy\n",
    "from utils.adversary_env import AdversaryEnv\n",
    "from utils.cartpole_wrapper import CartPoleWrapper\n",
    "from stable_baselines3.common.evaluation import evaluate_policy\n",
    "from stable_baselines3.common.monitor import Monitor\n",
    "\n",
    "# Load target model\n",
    "target_model = A2C.load(\"../a2c/model/lunarlander_v2_a2c_3M_to_11M\")"
   ]
  },
  {
   "cell_type": "code",
   "execution_count": 2,
   "metadata": {},
   "outputs": [
    {
     "name": "stdout",
     "output_type": "stream",
     "text": [
      "mean_reward: 214.51 +/- 97.05\n"
     ]
    }
   ],
   "source": [
    "# Test target model - for info on why the env is wrapped with Monitor check the evaluate_policy function\n",
    "mean_reward, std_reward = evaluate_policy(target_model, Monitor(gym.make('LunarLander-v2')), n_eval_episodes=50)\n",
    "print(f\"mean_reward: {mean_reward:.2f} +/- {std_reward:.2f}\")"
   ]
  },
  {
   "cell_type": "code",
   "execution_count": 3,
   "metadata": {},
   "outputs": [],
   "source": [
    "# Create adversary with adversary env\n",
    "# adversary_env = AdversaryEnv(gym.make('LunarLander-v2'), target_model)\n",
    "# adversary = PPO(MlpPolicy, adversary_env, verbose=1)"
   ]
  },
  {
   "cell_type": "code",
   "execution_count": 4,
   "metadata": {},
   "outputs": [],
   "source": [
    "# Train adversary\n",
    "# log_dir = \"./out/training-log/\"\n",
    "# log_path = log_dir + f\"adversary-adversary-lunarlander-v2/\"\n",
    "# save_dir = \"./models/adversary-lunarlander-v2/\"\n",
    "\n",
    "# timesteps = 50000\n",
    "\n",
    "# adversary.learn(\n",
    "#         total_timesteps=timesteps,\n",
    "#         callback=None,\n",
    "#         log_interval=-1,\n",
    "#         eval_env=adversary_env, \n",
    "#         eval_freq=5000, \n",
    "#         n_eval_episodes=100,\n",
    "#         tb_log_name='PPO',\n",
    "#         eval_log_path=log_path, \n",
    "#         reset_num_timesteps=False\n",
    "#         )\n",
    "\n",
    "# # Save adversary\n",
    "# adversary.save(save_dir + f\"adversary_lunarlander_v2_{timesteps}\")"
   ]
  },
  {
   "cell_type": "code",
   "execution_count": 5,
   "metadata": {},
   "outputs": [],
   "source": [
    "# Load adversary\n",
    "save_dir = \"./models/adversary-lunarlander-v2/\"\n",
    "\n",
    "adversary = PPO.load(save_dir + f\"adversary_lunarlander_v2_50000\")\n",
    "adversary_env = AdversaryEnv(gym.make('LunarLander-v2'), target_model)"
   ]
  },
  {
   "cell_type": "code",
   "execution_count": null,
   "metadata": {},
   "outputs": [],
   "source": [
    "import numpy as np\n",
    "import pandas as pd\n",
    "from uniform_attack import UniformAttack\n",
    "\n",
    "# Evaluate uniform adversarial attack over different epsilon\n",
    "data_dict = {\n",
    "    'epsilon': [],\n",
    "    'mean_rew': [],\n",
    "    'mean_perturbation': [],\n",
    "    'mean_n_timesteps': [],\n",
    "    'mean_n_attacks': []\n",
    "}\n",
    "\n",
    "n_episodes = 50\n",
    "\n",
    "for j in range(1, 50):\n",
    "    epsilon = j/100\n",
    "\n",
    "    all_episodes_rewards = []\n",
    "    all_episodes_perturbation = []\n",
    "    all_episodes_n_timesteps = []\n",
    "    all_episodes_n_attacks = []\n",
    "\n",
    "    for i in range(0, n_episodes):\n",
    "        # Run attack on a2c model\n",
    "        env = gym.make('LunarLander-v2')\n",
    "        ua = UniformAttack(env=env, model=target_model, attack=adversary, epsilon=epsilon)\n",
    "        ua.perform_attack()\n",
    "\n",
    "        all_episodes_rewards.append(ua.reward_total)\n",
    "        all_episodes_perturbation.append(ua.perturbation_total)\n",
    "        all_episodes_n_timesteps.append(ua.frames_count)\n",
    "        all_episodes_n_attacks.append(ua.n_attacks)\n",
    "\n",
    "        ua.reset_attack()\n",
    "\n",
    "    data_dict['epsilon'].append(epsilon)\n",
    "    data_dict['mean_rew'].append(np.round(np.mean(all_episodes_rewards), 2))\n",
    "    data_dict['mean_perturbation'].append(np.round(np.mean(all_episodes_perturbation), 2))\n",
    "    data_dict['mean_n_timesteps'].append(np.round(np.mean(all_episodes_n_timesteps), 2))\n",
    "    data_dict['mean_n_attacks'].append(np.round(np.mean(all_episodes_n_attacks), 2))\n",
    "\n",
    "    print(\"------------------------------------------\")\n",
    "    print(\n",
    "        f\"{data_dict['epsilon'][-1] = }: \\n\" +\n",
    "        f\"{data_dict['mean_rew'][-1] = } \\n\" +\n",
    "        f\"{data_dict['mean_perturbation'][-1] = } \\n\" +\n",
    "        f\"{data_dict['mean_n_timesteps'][-1] = } \\n\" +\n",
    "        f\"{data_dict['mean_n_attacks'][-1] = }\"\n",
    "        )\n",
    "    print(\"------------------------------------------\")"
   ]
  },
  {
   "cell_type": "code",
   "execution_count": null,
   "metadata": {},
   "outputs": [],
   "source": [
    "print(data_dict)"
   ]
  },
  {
   "cell_type": "code",
   "execution_count": null,
   "metadata": {},
   "outputs": [],
   "source": [
    "# Create DataFrame\n",
    "data_df = pd.DataFrame(\n",
    "        data_dict, \n",
    "        columns=data_dict.keys(),\n",
    "        )\n",
    "data_df.set_index('epsilon', inplace=True)\n",
    "\n",
    "# Save data as .csv file\n",
    "with open(\"./out/data/\" + \"uniform_attack_epsilon\", 'w') as f:\n",
    "    data_df.to_csv(f)\n",
    "\n",
    "data_df"
   ]
  },
  {
   "cell_type": "code",
   "execution_count": 13,
   "metadata": {},
   "outputs": [
    {
     "data": {
      "image/png": "[encoded data removed]",
      "text/plain": [
       "<Figure size 648x504 with 1 Axes>"
      ]
     },
     "metadata": {
      "needs_background": "light"
     },
     "output_type": "display_data"
    }
   ],
   "source": [
    "import pandas as pd\n",
    "import numpy as np\n",
    "from matplotlib import pyplot as plt\n",
    "from matplotlib.ticker import ScalarFormatter\n",
    "\n",
    "# Load data\n",
    "with open(\"./out/data/\" + \"uniform_attack_epsilon\", 'r') as f:\n",
    "    data_df = pd.read_csv(f, index_col=0)\n",
    "\n",
    "# Plot data_df\n",
    "fig = plt.figure(figsize=(9,7))\n",
    "ax = fig.add_axes([0.1, 0.1, 0.8, 0.8])\n",
    "\n",
    "plt.plot(data_df.index, data_df['mean_rew'], color='black', label='mean reward', alpha=1, zorder=0)\n",
    "plt.fill_between(data_df.index, data_df['mean_rew'], color='darkgreen', where=(data_df['mean_rew']>=0), hatch='/', step=None, alpha=0.4)\n",
    "plt.fill_between(data_df.index, data_df['mean_rew'], color='maroon', where=(data_df['mean_rew']<0), hatch='/', step=None, alpha=0.4)\n",
    "# plt.vlines(data_df.index, ymin=0, ymax=data_df['mean_rew'], color=np.where(data_df['mean_rew'] < 0, 'maroon', 'darkgreen'), alpha=1, zorder=1)\n",
    "# plt.scatter(data_df.index, data_df['mean_rew'], color=np.where(data_df['mean_rew'] < 0, 'maroon', 'darkgreen'), label='mean reward', marker='D', alpha=1, zorder=2)\n",
    "\n",
    "plt.plot(data_df.index, data_df['mean_perturbation'], label='mean perturbation', color='crimson', linestyle='dotted', alpha=1, zorder=0)\n",
    "\n",
    "plt.plot(data_df.index, data_df['mean_n_timesteps'], label='mean n timesteps', color='purple', linestyle='dashed', alpha=1, zorder=0)\n",
    "\n",
    "plt.plot(data_df.index, data_df['mean_n_attacks'], label='mean n attacks', color='black', linestyle='dotted', alpha=1, zorder=0)\n",
    "\n",
    "plt.title(\"Uniform attack on LunarLander\")\n",
    "plt.legend()\n",
    "plt.xlabel('$\\epsilon$')\n",
    "# plt.ylabel()\n",
    "plt.yscale('symlog')\n",
    "plt.axis([0.01, 0.49, -450, 550]) # plt.axis([xmin, xmax, ymin, ymax])\n",
    "for axis in [ax.xaxis, ax.yaxis]:\n",
    "    axis.set_major_formatter(ScalarFormatter())\n",
    "plt.show()"
   ]
  }
 ],
 "metadata": {
  "interpreter": {
   "hash": "b1eaab1189d37ae29f7eac77705a074d5028424b72ba552afc8bf8536055072c"
  },
  "kernelspec": {
   "display_name": "Python 3.9.7 ('torch-gym')",
   "language": "python",
   "name": "python3"
  },
  "language_info": {
   "codemirror_mode": {
    "name": "ipython",
    "version": 3
   },
   "file_extension": ".py",
   "mimetype": "text/x-python",
   "name": "python",
   "nbconvert_exporter": "python",
   "pygments_lexer": "ipython3",
   "version": "3.9.7"
  },
  "orig_nbformat": 4
 },
 "nbformat": 4,
 "nbformat_minor": 2
}
