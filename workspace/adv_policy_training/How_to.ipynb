{
 "cells": [
  {
   "cell_type": "markdown",
   "metadata": {},
   "source": [
    "## Step-by-Step für adversarial-policies github\n",
    "\n",
    "Das Berkley [GitHub](https://github.com/HumanCompatibleAI/adversarial-policies).\n",
    "\n",
    "- Installiere Docker nach Anleitung [hier](https://docs.docker.com/get-docker/)\n",
    "\n",
    "    - Für Windows muss zuvor WSL (Windows Subsystem for Linux) installiert werden. Anleitung davon gibt es bei [Microsoft](https://docs.microsoft.com/en-us/windows/wsl/install)\n",
    "    \n",
    "    - Bei dem ersten Starten von der Desktop Docker Applikation gibt es ein Tutorial welches ganz gut ist.\n",
    "    \n",
    "- Lade das Berkley [GitHub](https://github.com/HumanCompatibleAI/adversarial-policies) herunter.\n",
    "\n",
    "- Lade von der Mujoco [Website](https://www.roboti.us/license.html) den Activation Key herunter. Dies sollte eine Datei mit Namen mjkey.txt sein.\n",
    "\n",
    "- Verschiebe die mjkey.txt in das heruntergeladene Github Repo.\n",
    "\n",
    "- Rufe ein Terminal für Docker auf und navigiere in das Github Repo.\n",
    "\n",
    "- Baue das Docker Image mit ```docker build -t rl_adversarial```. Das image sollte rl_adversarial heißen und im  Docker Desktop auftauchen. (Nach belieben kann man den Namen anders wählen.)\n",
    "\n",
    "- Starte einen Docker Container mit dem Mujoco key durch ```docker run -it --name rl_adv --env MUJOCO_PY_MJKEY_PATH=/adversarial-policies/mjkey.txt rl_adversarial /bin/bash```. nach diesem Aufruf sollte eine Linux Kommandozeile zur  Verfügung stehen wo man nun zB ```python -m aprl.train``` benutzen kann um einen Algo zu trainieren. (rl_adv ist hier der Name des Docker Containers und kann beliebig angepasst werden. Diesr Container sollte auch im Docker Desktop sichtbar sein.) \n",
    "\n",
    "- Mit ```exit```kann der Docker Container gestoppt werden. Um nicht endlos neue Container zu erstellen kann der vorher erstellte Docker Container mittels ```docker start -i  rl_adv``` wieder gestartet werden.\n",
    "\n",
    "Soweit hatte ich mich bis jetzt durchprobiert. Nun sollte man eigentlich im Container mit dem Repo rumspielen können.\n",
    "\n"
   ]
  },
  {
   "cell_type": "code",
   "execution_count": null,
   "metadata": {},
   "outputs": [],
   "source": []
  }
 ],
 "metadata": {
  "kernelspec": {
   "display_name": "Python 3",
   "language": "python",
   "name": "python3"
  },
  "language_info": {
   "codemirror_mode": {
    "name": "ipython",
    "version": 3
   },
   "file_extension": ".py",
   "mimetype": "text/x-python",
   "name": "python",
   "nbconvert_exporter": "python",
   "pygments_lexer": "ipython3",
   "version": "3.9.0"
  }
 },
 "nbformat": 4,
 "nbformat_minor": 4
}
